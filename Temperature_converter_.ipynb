{
  "nbformat": 4,
  "nbformat_minor": 0,
  "metadata": {
    "colab": {
      "name": "Temperature converter .ipynb",
      "provenance": [],
      "authorship_tag": "ABX9TyOSrX5uEwOPMIJLqmJpiqvA",
      "include_colab_link": true
    },
    "kernelspec": {
      "name": "python3",
      "display_name": "Python 3"
    },
    "language_info": {
      "name": "python"
    }
  },
  "cells": [
    {
      "cell_type": "markdown",
      "metadata": {
        "id": "view-in-github",
        "colab_type": "text"
      },
      "source": [
        "<a href=\"https://colab.research.google.com/github/ChiragSharmaa02/temprarture-convertor/blob/main/Temperature_converter_.ipynb\" target=\"_parent\"><img src=\"https://colab.research.google.com/assets/colab-badge.svg\" alt=\"Open In Colab\"/></a>"
      ]
    },
    {
      "cell_type": "markdown",
      "metadata": {
        "id": "Fa2fyU5pp9ZK"
      },
      "source": [
        "Here,We  Try to convert fahrenheit to celsius with shortest code"
      ]
    },
    {
      "cell_type": "code",
      "metadata": {
        "colab": {
          "base_uri": "https://localhost:8080/"
        },
        "id": "3IA600p2orr9",
        "outputId": "59d008ef-58a4-4cf0-b6fe-323e97f10eb6"
      },
      "source": [
        "def Fahren(s):         ##Defining a function for changing value\n",
        "  f = float(s)         ## using float for getting decimal value\n",
        "  c = (f - 32)*5/9     ##using mathmatical expression to change fahrenheit to celsius\n",
        "  return c             ## Returing the celsius\n",
        "print(Fahren(104))"
      ],
      "execution_count": 5,
      "outputs": [
        {
          "output_type": "stream",
          "text": [
            "40.0\n"
          ],
          "name": "stdout"
        }
      ]
    },
    {
      "cell_type": "markdown",
      "metadata": {
        "id": "GlupDU5vsilk"
      },
      "source": [
        "Similarliy we can change kelvin into celcius\n",
        "\n",
        "The Kelvin temperature scale is used by scientists because they wanted a temperature scale where zero reflects the complete absence of thermal energy"
      ]
    },
    {
      "cell_type": "code",
      "metadata": {
        "id": "WYaXGg60s1fN",
        "outputId": "e628e9c2-0849-4fe1-c471-48d9551c5fb7",
        "colab": {
          "base_uri": "https://localhost:8080/"
        }
      },
      "source": [
        "def kelvin(k):\n",
        "  K = float(k)\n",
        "  c = (k - 273.15)\n",
        "  return c\n",
        "print(kelvin(500))"
      ],
      "execution_count": 9,
      "outputs": [
        {
          "output_type": "stream",
          "text": [
            "226.85000000000002\n"
          ],
          "name": "stdout"
        }
      ]
    }
  ]
}